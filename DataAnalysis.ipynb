{
  "nbformat": 4,
  "nbformat_minor": 0,
  "metadata": {
    "colab": {
      "name": "DataAnalysis",
      "provenance": [],
      "collapsed_sections": [],
      "toc_visible": true,
      "authorship_tag": "ABX9TyMicwdG1jFAU4caZXAlbp0h",
      "include_colab_link": true
    },
    "kernelspec": {
      "name": "python3",
      "display_name": "Python 3"
    },
    "language_info": {
      "name": "python"
    }
  },
  "cells": [
    {
      "cell_type": "markdown",
      "metadata": {
        "id": "view-in-github",
        "colab_type": "text"
      },
      "source": [
        "<a href=\"https://colab.research.google.com/github/clomia/AIB-Section1-Project/blob/master/DataAnalysis.ipynb\" target=\"_parent\"><img src=\"https://colab.research.google.com/assets/colab-badge.svg\" alt=\"Open In Colab\"/></a>"
      ]
    },
    {
      "cell_type": "code",
      "metadata": {
        "id": "D1AgDbchwogt"
      },
      "source": [
        "import pandas as pd\n",
        "import numpy as np\n",
        "import seaborn as sns\n",
        "import matplotlib.pyplot as plt\n",
        "from scipy import stats\n",
        "\n",
        "data = pd.read_csv('https://drive.google.com/uc?export=download&id=1wH6BUzfoXJx_yrOVNj7Ewt2lFJ5MGIPW')\n",
        "origin_data = data.copy()"
      ],
      "execution_count": 1,
      "outputs": []
    },
    {
      "cell_type": "markdown",
      "metadata": {
        "id": "AIB-vFeb70EK"
      },
      "source": [
        "## Pre-processing"
      ]
    },
    {
      "cell_type": "markdown",
      "metadata": {
        "id": "hhc09sicIrfE"
      },
      "source": [
        "### 판매량 데이터 전처리\n",
        "\n",
        "판매량을 환산하는 함수입니다.  \n",
        "기본값으로 백만단위를 사용하며, 0으로 표기된것은  \n",
        "단위에 미치지 못한 0이상의 숫자라고 간주하여 (단위/2)값으로 대체합니다  .\n",
        "  \n",
        "( 단위로는 K = 1_000 , M = 1000_000 , 기본 = 1000_000 입니다. )"
      ]
    },
    {
      "cell_type": "code",
      "metadata": {
        "id": "dwQWQ1Xy1Z7F"
      },
      "source": [
        "def numericization(value):\n",
        "    M = 1000_000\n",
        "    K = 1_000\n",
        "\n",
        "    def KM_product(number,unit):\n",
        "        result = number * unit\n",
        "        return result if result else unit/2\n",
        "\n",
        "    logic_dict = {\n",
        "        'K':lambda value: KM_product( float(value), K ),\n",
        "        'M':lambda value: KM_product( float(value), M ),\n",
        "    }\n",
        "    try:\n",
        "        result = KM_product( float(value), M )\n",
        "    except ValueError:\n",
        "        unit,number = value[-1],value[:-1]\n",
        "        result = logic_dict[unit](number)\n",
        "    return np.int64(result)"
      ],
      "execution_count": 2,
      "outputs": []
    },
    {
      "cell_type": "markdown",
      "metadata": {
        "id": "RhX6hk6mZJKa"
      },
      "source": [
        "### 출시년도 데이터 전처리  \n",
        "\n",
        "연도 데이터에서 잘못된 값과 결측치를 처리합니다. \n",
        "   \n",
        "**잘못된 값 복구**  \n",
        "잘못된 값은 연도 범위에서 벗어난 두자리 숫자입니다.  \n",
        "데이터 분석 결과 잘못된 값은 무조건 20이하이거나 80이상입니다.  \n",
        "또한 올바른 연도데이터가 가지는 범위는 (1980 ~ 2020) 입니다.  \n",
        "즉, 잘못된 값이 20이하인 경우 2000을 더하고,  \n",
        "80 이상인 경우 1900을 더해서 올바른 연도로 복구합니다. \n",
        "  \n",
        "**결측치 처리**  \n",
        "위에서 처리된 데이터의 평균,표준편차,분산을 모방하는  \n",
        "샘플 데이터셋을 생성하여 결측치를 매꿉니다.  \n",
        "결과적으로 데이터의 통계치 회손을 최소화합니다."
      ]
    },
    {
      "cell_type": "markdown",
      "metadata": {
        "id": "qZ-3ZppgsSXN"
      },
      "source": [
        "아래 코드는 간단하게 데이터를 확인하는 작업입니다."
      ]
    },
    {
      "cell_type": "code",
      "metadata": {
        "colab": {
          "base_uri": "https://localhost:8080/"
        },
        "id": "CiwiKknLLSV-",
        "outputId": "0b1662ef-8f7d-4c70-9be1-a373590ae2a3"
      },
      "source": [
        "normal_elements , denormal_elements = [] , []\n",
        "\n",
        "\n",
        "class Filter:\n",
        "    def __init__(self, normal:bool , container:list):\n",
        "        self.normal = normal\n",
        "        self.container = container\n",
        "    \n",
        "    def __call__(self,func):\n",
        "        def wrapper(year):\n",
        "            return_value = func(year)\n",
        "            if not return_value:\n",
        "                if not self.normal:\n",
        "                    self.container.append(np.nan)\n",
        "                return\n",
        "            length,year = return_value\n",
        "            if self.normal and length == 4:\n",
        "                self.container.append(year)\n",
        "            elif (not self.normal) and length != 4:\n",
        "                self.container.append(year)\n",
        "            return return_value\n",
        "        return wrapper\n",
        "\n",
        "    @staticmethod                \n",
        "    def function(year):\n",
        "        try:\n",
        "            year = np.int64(year)\n",
        "        except ValueError:\n",
        "            return \n",
        "        else:\n",
        "            return len(str(year)),year\n",
        "\n",
        "        \n",
        "@Filter(normal=True,container=normal_elements)\n",
        "def normal_sampling(year):\n",
        "    return Filter.function(year)\n",
        "\n",
        "@Filter(normal=False,container=denormal_elements)\n",
        "def denormal_sampling(year):\n",
        "    return Filter.function(year)\n",
        "\n",
        "\n",
        "data['Year'].apply(denormal_sampling)\n",
        "data['Year'].apply(normal_sampling)\n",
        "\n",
        "\n",
        "# \"assertion failed\"가 발생하지 않는것을 통해서 NAN이 아닌 비정상적인 년도는 모두 20이하이거나 80이상이라는것을 증명합니다.\n",
        "filter_20_to_80 = tuple( value for value in denormal_elements if value <= 20 or value >= 80 )\n",
        "filter_not_nan = tuple( value for value in denormal_elements if value is not np.nan )\n",
        "assert filter_20_to_80 == filter_not_nan\n",
        "\n",
        "round_int = lambda number:int(round(number,0))\n",
        "data_info = {\n",
        "    '평균':round_int(np.mean(normal_elements)),\n",
        "    '분산':round_int(np.var(normal_elements)),\n",
        "    '표준편차':round_int(np.std(normal_elements)),\n",
        "}\n",
        "# 평균:2006 , 표준편차:6\n",
        "\n",
        "missing_values = tuple( object for value in denormal_elements if value is np.nan )\n",
        "MISSING_VALUE_COUNT = len(missing_values)\n",
        "\n",
        "print(f'올바른 연도값의 최대와 최소: {min(normal_elements)} , {max(normal_elements)}')\n",
        "print(f'결측치 갯수:{MISSING_VALUE_COUNT}') # 결측치 갯수: 271개"
      ],
      "execution_count": 3,
      "outputs": [
        {
          "output_type": "stream",
          "text": [
            "올바른 연도값의 최대와 최소: 1980 , 2020\n",
            "결측치 갯수:271\n"
          ],
          "name": "stdout"
        }
      ]
    },
    {
      "cell_type": "markdown",
      "metadata": {
        "id": "_Z8dEMg_ifZ7"
      },
      "source": [
        "결측치를 매꾸기 위한 샘플 데이터를 생성합니다.  \n",
        "**기존 데이터의 평균과 표준편차를 모방한 샘플 데이터**를 생성하고 올바른지 테스트합니다."
      ]
    },
    {
      "cell_type": "code",
      "metadata": {
        "colab": {
          "base_uri": "https://localhost:8080/"
        },
        "id": "cE9raB4VhQj7",
        "outputId": "d8a50fbe-3a68-4b37-dcda-d23fba71e7e1"
      },
      "source": [
        "sampling = lambda : round_int(data_info['표준편차'] * np.random.randn() + data_info['평균'])\n",
        "sample = [ sampling() for _ in range(MISSING_VALUE_COUNT) ]\n",
        "\n",
        "print(f\"기존 데이터-> 평균:{data_info['평균']} , 분산:{data_info['분산']} , 표준편차:{data_info['표준편차']}\")\n",
        "print(f\"새롭게 샘플링된 데이터-> 평균:{round_int(np.mean(sample))} , 분산:{round_int(np.var(sample))} , 표준편차:{round_int(np.std(sample))}\")"
      ],
      "execution_count": 4,
      "outputs": [
        {
          "output_type": "stream",
          "text": [
            "기존 데이터-> 평균:2006 , 분산:34 , 표준편차:6\n",
            "새롭게 샘플링된 데이터-> 평균:2006 , 분산:34 , 표준편차:6\n"
          ],
          "name": "stdout"
        }
      ]
    },
    {
      "cell_type": "markdown",
      "metadata": {
        "id": "YXaWphlYqByE"
      },
      "source": [
        "위에서 진행한 분석을 기반으로 연도 데이터를 처리하는 함수입니다."
      ]
    },
    {
      "cell_type": "code",
      "metadata": {
        "id": "sXe4YrgMK5gR"
      },
      "source": [
        "def year_product(value):\n",
        "    try:\n",
        "        value = np.int64(value)\n",
        "    except ValueError:\n",
        "        value = sample.pop()\n",
        "        return value if value < 2021 else 2020\n",
        "    else:\n",
        "        if 1980 <= value <= 2020:\n",
        "            return value\n",
        "        return value + ( 2000 if value <= 20 else 1900 )"
      ],
      "execution_count": 5,
      "outputs": []
    },
    {
      "cell_type": "markdown",
      "metadata": {
        "id": "6ykVhdY8o84D"
      },
      "source": [
        "### 판매량과 출시년도에 데이터 처리 적용"
      ]
    },
    {
      "cell_type": "code",
      "metadata": {
        "id": "7hWy_BRvywS5",
        "colab": {
          "base_uri": "https://localhost:8080/",
          "height": 235
        },
        "outputId": "f746019e-1d88-4773-e50b-3e4b6c88bafa"
      },
      "source": [
        "target = ['NA_Sales','EU_Sales','JP_Sales','Other_Sales']\n",
        "data[target] = data[target].applymap(numericization) # 판매 데이터 처리\n",
        "data.index = data['Year'].apply(year_product) # 출시년도 데이터 처리\n",
        "data = data.drop(['Unnamed: 0','Year'],axis=1).sort_index(ascending=False) \n",
        "data.head()"
      ],
      "execution_count": 6,
      "outputs": [
        {
          "output_type": "execute_result",
          "data": {
            "text/html": [
              "<div>\n",
              "<style scoped>\n",
              "    .dataframe tbody tr th:only-of-type {\n",
              "        vertical-align: middle;\n",
              "    }\n",
              "\n",
              "    .dataframe tbody tr th {\n",
              "        vertical-align: top;\n",
              "    }\n",
              "\n",
              "    .dataframe thead th {\n",
              "        text-align: right;\n",
              "    }\n",
              "</style>\n",
              "<table border=\"1\" class=\"dataframe\">\n",
              "  <thead>\n",
              "    <tr style=\"text-align: right;\">\n",
              "      <th></th>\n",
              "      <th>Name</th>\n",
              "      <th>Platform</th>\n",
              "      <th>Genre</th>\n",
              "      <th>Publisher</th>\n",
              "      <th>NA_Sales</th>\n",
              "      <th>EU_Sales</th>\n",
              "      <th>JP_Sales</th>\n",
              "      <th>Other_Sales</th>\n",
              "    </tr>\n",
              "    <tr>\n",
              "      <th>Year</th>\n",
              "      <th></th>\n",
              "      <th></th>\n",
              "      <th></th>\n",
              "      <th></th>\n",
              "      <th></th>\n",
              "      <th></th>\n",
              "      <th></th>\n",
              "      <th></th>\n",
              "    </tr>\n",
              "  </thead>\n",
              "  <tbody>\n",
              "    <tr>\n",
              "      <th>2020</th>\n",
              "      <td>Imagine: Makeup Artist</td>\n",
              "      <td>DS</td>\n",
              "      <td>Simulation</td>\n",
              "      <td>Ubisoft</td>\n",
              "      <td>270000</td>\n",
              "      <td>500</td>\n",
              "      <td>500000</td>\n",
              "      <td>20000</td>\n",
              "    </tr>\n",
              "    <tr>\n",
              "      <th>2020</th>\n",
              "      <td>The Chronicles of Narnia: The Lion, The Witch ...</td>\n",
              "      <td>GC</td>\n",
              "      <td>Action</td>\n",
              "      <td>Disney Interactive Studios</td>\n",
              "      <td>220000</td>\n",
              "      <td>60000</td>\n",
              "      <td>500000</td>\n",
              "      <td>10000</td>\n",
              "    </tr>\n",
              "    <tr>\n",
              "      <th>2020</th>\n",
              "      <td>Ferrari: The Race Experience</td>\n",
              "      <td>Wii</td>\n",
              "      <td>Racing</td>\n",
              "      <td>System 3 Arcade Software</td>\n",
              "      <td>500000</td>\n",
              "      <td>10000</td>\n",
              "      <td>500000</td>\n",
              "      <td>500000</td>\n",
              "    </tr>\n",
              "    <tr>\n",
              "      <th>2020</th>\n",
              "      <td>Dance! It's Your Stage</td>\n",
              "      <td>Wii</td>\n",
              "      <td>Misc</td>\n",
              "      <td>DTP Entertainment</td>\n",
              "      <td>500</td>\n",
              "      <td>10000</td>\n",
              "      <td>500000</td>\n",
              "      <td>500000</td>\n",
              "    </tr>\n",
              "    <tr>\n",
              "      <th>2017</th>\n",
              "      <td>Custom Robo</td>\n",
              "      <td>N64</td>\n",
              "      <td>Role-Playing</td>\n",
              "      <td>Nintendo</td>\n",
              "      <td>500000</td>\n",
              "      <td>500000</td>\n",
              "      <td>290000</td>\n",
              "      <td>40000</td>\n",
              "    </tr>\n",
              "  </tbody>\n",
              "</table>\n",
              "</div>"
            ],
            "text/plain": [
              "                                                   Name  ... Other_Sales\n",
              "Year                                                     ...            \n",
              "2020                             Imagine: Makeup Artist  ...       20000\n",
              "2020  The Chronicles of Narnia: The Lion, The Witch ...  ...       10000\n",
              "2020                       Ferrari: The Race Experience  ...      500000\n",
              "2020                             Dance! It's Your Stage  ...      500000\n",
              "2017                                        Custom Robo  ...       40000\n",
              "\n",
              "[5 rows x 8 columns]"
            ]
          },
          "metadata": {
            "tags": []
          },
          "execution_count": 6
        }
      ]
    },
    {
      "cell_type": "markdown",
      "metadata": {
        "id": "d_sMvf1Q1RxY"
      },
      "source": [
        "### Genre와 Publisher의 NaN값 대체  \n",
        "Genre : \"Misc\"  \n",
        "Publisher : \"Unknown\""
      ]
    },
    {
      "cell_type": "code",
      "metadata": {
        "id": "FzT0yG1-zuCM",
        "colab": {
          "base_uri": "https://localhost:8080/"
        },
        "outputId": "3ef4cc4e-914d-4c6f-b2d2-836694fdb35d"
      },
      "source": [
        "genre_missing_data = data['Genre'][ data['Genre'].isin([np.nan]) ]\n",
        "publisher_missing_data = data['Publisher'][ data['Publisher'].isin([np.nan]) ]\n",
        "\n",
        "data['Genre'] = data['Genre'].fillna('Misc')\n",
        "data['Publisher'] = data['Publisher'].fillna('Unknown')\n",
        "\n",
        "print(f'처리한 NaN 갯수| Genre:{len(genre_missing_data)} , Publisher:{len(publisher_missing_data)}')\n",
        "data.info()"
      ],
      "execution_count": 7,
      "outputs": [
        {
          "output_type": "stream",
          "text": [
            "처리한 NaN 갯수| Genre:50 , Publisher:58\n",
            "<class 'pandas.core.frame.DataFrame'>\n",
            "Int64Index: 16598 entries, 2020 to 1980\n",
            "Data columns (total 8 columns):\n",
            " #   Column       Non-Null Count  Dtype \n",
            "---  ------       --------------  ----- \n",
            " 0   Name         16598 non-null  object\n",
            " 1   Platform     16598 non-null  object\n",
            " 2   Genre        16598 non-null  object\n",
            " 3   Publisher    16598 non-null  object\n",
            " 4   NA_Sales     16598 non-null  int64 \n",
            " 5   EU_Sales     16598 non-null  int64 \n",
            " 6   JP_Sales     16598 non-null  int64 \n",
            " 7   Other_Sales  16598 non-null  int64 \n",
            "dtypes: int64(4), object(4)\n",
            "memory usage: 1.1+ MB\n"
          ],
          "name": "stdout"
        }
      ]
    },
    {
      "cell_type": "markdown",
      "metadata": {
        "id": "DmC0OG3Z8bdi"
      },
      "source": [
        "## 필수 내용"
      ]
    },
    {
      "cell_type": "markdown",
      "metadata": {
        "id": "g2311n2I8fBu"
      },
      "source": [
        "#### 지역에 따라서 선호하는 게임 장르가 다를까  \n",
        "North America, European Union, Japan  \n",
        "  \n",
        "[PlatForm은 비디오 게임 및 액션 장르의 하위장르이다.](https://en.wikipedia.org/wiki/Platform_game)"
      ]
    },
    {
      "cell_type": "code",
      "metadata": {
        "id": "IU3y8vzCePLV"
      },
      "source": [
        "def visualization(region):\n",
        "    sns.barplot(x=region, y=\"Genre\", data=data)\n",
        "    plt.title(f\"{region} Data\")"
      ],
      "execution_count": 9,
      "outputs": []
    },
    {
      "cell_type": "code",
      "metadata": {
        "colab": {
          "base_uri": "https://localhost:8080/",
          "height": 296
        },
        "id": "DjQVecN_8ZQh",
        "outputId": "ad0030f3-a6cd-43d5-ba07-66e1a95de318"
      },
      "source": [
        "visualization(\"NA_Sales\")"
      ],
      "execution_count": 10,
      "outputs": [
        {
          "output_type": "display_data",
          "data": {
            "image/png": "[encoded data removed]",
            "text/plain": [
              "<Figure size 432x288 with 1 Axes>"
            ]
          },
          "metadata": {
            "tags": [],
            "needs_background": "light"
          }
        }
      ]
    },
    {
      "cell_type": "code",
      "metadata": {
        "colab": {
          "base_uri": "https://localhost:8080/",
          "height": 296
        },
        "id": "5cAjom3zCqmt",
        "outputId": "f0e5c7b8-c519-4fcb-c990-89dda9ca46d3"
      },
      "source": [
        "visualization(\"EU_Sales\")"
      ],
      "execution_count": 11,
      "outputs": [
        {
          "output_type": "display_data",
          "data": {
            "image/png": "[encoded data removed]",
            "text/plain": [
              "<Figure size 432x288 with 1 Axes>"
            ]
          },
          "metadata": {
            "tags": [],
            "needs_background": "light"
          }
        }
      ]
    },
    {
      "cell_type": "code",
      "metadata": {
        "colab": {
          "base_uri": "https://localhost:8080/",
          "height": 296
        },
        "id": "sln5KfI4CuPS",
        "outputId": "2eca27a7-f79e-483c-dce7-2ae8e1e532b2"
      },
      "source": [
        "visualization(\"JP_Sales\")"
      ],
      "execution_count": 12,
      "outputs": [
        {
          "output_type": "display_data",
          "data": {
            "image/png": "[encoded data removed]",
            "text/plain": [
              "<Figure size 432x288 with 1 Axes>"
            ]
          },
          "metadata": {
            "tags": [],
            "needs_background": "light"
          }
        }
      ]
    },
    {
      "cell_type": "code",
      "metadata": {
        "colab": {
          "base_uri": "https://localhost:8080/",
          "height": 296
        },
        "id": "4UMYmEBYCzmh",
        "outputId": "f7839415-7ec8-4940-a1cc-a88b9e14e6f2"
      },
      "source": [
        "visualization(\"Other_Sales\")"
      ],
      "execution_count": 13,
      "outputs": [
        {
          "output_type": "display_data",
          "data": {
            "image/png": "[encoded data removed]",
            "text/plain": [
              "<Figure size 432x288 with 1 Axes>"
            ]
          },
          "metadata": {
            "tags": [],
            "needs_background": "light"
          }
        }
      ]
    },
    {
      "cell_type": "code",
      "metadata": {
        "id": "7HhtQu1DqBma",
        "outputId": "0bdc79a8-b085-486e-ccfb-54bc4cd0f483",
        "colab": {
          "base_uri": "https://localhost:8080/"
        }
      },
      "source": [
        "genres = ['Shooter','Platform','Action','Misc','Role-Playing','Racing','Sports','Fighting','Puzzle','Adventure','Simulation']\n",
        "regions = ('NA_Sales','EU_Sales','JP_Sales')\n",
        "anova_result = []\n",
        "for genre in genres:\n",
        "    oper_df = data[ data['Genre'] == genre ]\n",
        "    groups = [ oper_df[region] for region in regions ]\n",
        "    _,p_value = stats.f_oneway(*groups)\n",
        "    if p_value < 0.05:\n",
        "        print(f\"지역에 따라서 {genre}장르의 선호도는 유의미한 차이를 보입니다.\")\t\n",
        "        anova_result.append(genre)\n",
        "if anova_result == genres:\n",
        "    print('지역들이 공통으로 선호하는 게임 장르가 존재하지 않습니다.')"
      ],
      "execution_count": 22,
      "outputs": [
        {
          "output_type": "stream",
          "text": [
            "지역에 따라서 Shooter장르의 선호도는 유의미한 차이를 보입니다.\n",
            "지역에 따라서 Platform장르의 선호도는 유의미한 차이를 보입니다.\n",
            "지역에 따라서 Action장르의 선호도는 유의미한 차이를 보입니다.\n",
            "지역에 따라서 Misc장르의 선호도는 유의미한 차이를 보입니다.\n",
            "지역에 따라서 Role-Playing장르의 선호도는 유의미한 차이를 보입니다.\n",
            "지역에 따라서 Racing장르의 선호도는 유의미한 차이를 보입니다.\n",
            "지역에 따라서 Sports장르의 선호도는 유의미한 차이를 보입니다.\n",
            "지역에 따라서 Fighting장르의 선호도는 유의미한 차이를 보입니다.\n",
            "지역에 따라서 Puzzle장르의 선호도는 유의미한 차이를 보입니다.\n",
            "지역에 따라서 Adventure장르의 선호도는 유의미한 차이를 보입니다.\n",
            "지역에 따라서 Simulation장르의 선호도는 유의미한 차이를 보입니다.\n",
            "지역들이 공통으로 선호하는 게임 장르가 존재하지 않습니다.\n"
          ],
          "name": "stdout"
        }
      ]
    },
    {
      "cell_type": "markdown",
      "metadata": {
        "id": "ZtqvMiGb8lYg"
      },
      "source": [
        "#### 연도별 게임의 트렌드가 있을까"
      ]
    },
    {
      "cell_type": "markdown",
      "metadata": {
        "id": "yPrBIHMC8oEa"
      },
      "source": [
        "#### 출고량이 높은 게임에 대한 분석 및 시각화 프로세스"
      ]
    }
  ]
}